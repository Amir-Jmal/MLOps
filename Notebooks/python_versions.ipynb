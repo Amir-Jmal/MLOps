{
 "cells": [
  {
   "cell_type": "code",
   "id": "initial_id",
   "metadata": {
    "collapsed": true,
    "ExecuteTime": {
     "end_time": "2024-10-23T18:08:00.535410Z",
     "start_time": "2024-10-23T18:07:58.413315Z"
    }
   },
   "source": "!conda info\n",
   "outputs": [
    {
     "name": "stdout",
     "output_type": "stream",
     "text": [
      "\n",
      "     active environment : base\n",
      "    active env location : C:\\Users\\User\\anaconda3\n",
      "            shell level : 1\n",
      "       user config file : C:\\Users\\User\\.condarc\n",
      " populated config files : C:\\Users\\User\\.condarc\n",
      "          conda version : 4.12.0\n",
      "    conda-build version : 3.21.8\n",
      "         python version : 3.9.12.final.0\n",
      "       virtual packages : __cuda=12.5=0\n",
      "                          __win=0=0\n",
      "                          __archspec=1=x86_64\n",
      "       base environment : C:\\Users\\User\\anaconda3  (writable)\n",
      "      conda av data dir : C:\\Users\\User\\anaconda3\\etc\\conda\n",
      "  conda av metadata url : None\n",
      "           channel URLs : https://repo.anaconda.com/pkgs/main/win-64\n",
      "                          https://repo.anaconda.com/pkgs/main/noarch\n",
      "                          https://repo.anaconda.com/pkgs/r/win-64\n",
      "                          https://repo.anaconda.com/pkgs/r/noarch\n",
      "                          https://repo.anaconda.com/pkgs/msys2/win-64\n",
      "                          https://repo.anaconda.com/pkgs/msys2/noarch\n",
      "          package cache : C:\\Users\\User\\anaconda3\\pkgs\n",
      "                          C:\\Users\\User\\.conda\\pkgs\n",
      "                          C:\\Users\\User\\AppData\\Local\\conda\\conda\\pkgs\n",
      "       envs directories : C:\\Users\\User\\anaconda3\\envs\n",
      "                          C:\\Users\\User\\.conda\\envs\n",
      "                          C:\\Users\\User\\AppData\\Local\\conda\\conda\\envs\n",
      "               platform : win-64\n",
      "             user-agent : conda/4.12.0 requests/2.27.1 CPython/3.9.12 Windows/10 Windows/10.0.22631\n",
      "          administrator : False\n",
      "             netrc file : None\n",
      "           offline mode : False\n",
      "\n"
     ]
    }
   ],
   "execution_count": 1
  },
  {
   "metadata": {
    "ExecuteTime": {
     "end_time": "2024-10-23T18:49:47.169498Z",
     "start_time": "2024-10-23T18:49:47.145627Z"
    }
   },
   "cell_type": "code",
   "source": [
    "import matplotlib # Visualisation\n",
    "import numpy # Calcul Scientifique\n",
    "import pandas # DataFrames\n",
    "import sklearn # Modélisation & Preprocessing\n",
    "import seaborn # Visualisation statistique\n",
    "import matplotlib # Visualisation\n",
    "import numpy # Calcul Scientifique\n",
    "import pandas # DataFrames\n",
    "import sklearn # Modélisation & Preprocessing\n",
    "import imblearn # Unbalanced \n",
    "import xgboost # modèles de boosting\n",
    "import dvc # Data Version Control\n",
    "import fastapi # Web API\n",
    "import uvicorn # Serveur pour communiquer avec des frameworks web\n",
    "import deepchecks # Test data & models\n",
    "import pytest # Test unitaire\n",
    "import multipart # Traitement des requêtes HTTP dans les Web apps\n",
    "import streamlit # Framework frontend\n",
    "import mlflow # Gestion du cycle de vie des modèles ML\n",
    "import dotenv # Charger des variables d'environnement à partir de fichiers .env \n",
    "import psutil # Intéragir avec les processus systèmes"
   ],
   "id": "f1dc839e78ce3f6b",
   "outputs": [
    {
     "ename": "ModuleNotFoundError",
     "evalue": "No module named 'imblearn'",
     "output_type": "error",
     "traceback": [
      "\u001B[1;31m---------------------------------------------------------------------------\u001B[0m",
      "\u001B[1;31mModuleNotFoundError\u001B[0m                       Traceback (most recent call last)",
      "Input \u001B[1;32mIn [6]\u001B[0m, in \u001B[0;36m<cell line: 11>\u001B[1;34m()\u001B[0m\n\u001B[0;32m      9\u001B[0m \u001B[38;5;28;01mimport\u001B[39;00m \u001B[38;5;21;01msklearn\u001B[39;00m \u001B[38;5;66;03m# Modélisation & Preprocessing\u001B[39;00m\n\u001B[0;32m     10\u001B[0m \u001B[38;5;28;01mimport\u001B[39;00m \u001B[38;5;21;01mseaborn\u001B[39;00m \u001B[38;5;66;03m# Visualisation statistique\u001B[39;00m\n\u001B[1;32m---> 11\u001B[0m \u001B[38;5;28;01mimport\u001B[39;00m \u001B[38;5;21;01mimblearn\u001B[39;00m \u001B[38;5;66;03m# Unbalanced \u001B[39;00m\n\u001B[0;32m     12\u001B[0m \u001B[38;5;28;01mimport\u001B[39;00m \u001B[38;5;21;01mxgboost\u001B[39;00m \u001B[38;5;66;03m# modèles de boosting\u001B[39;00m\n\u001B[0;32m     13\u001B[0m \u001B[38;5;28;01mimport\u001B[39;00m \u001B[38;5;21;01mdvc\u001B[39;00m \u001B[38;5;66;03m# Data Version Control\u001B[39;00m\n",
      "\u001B[1;31mModuleNotFoundError\u001B[0m: No module named 'imblearn'"
     ]
    }
   ],
   "execution_count": 6
  },
  {
   "metadata": {},
   "cell_type": "code",
   "outputs": [],
   "execution_count": null,
   "source": "",
   "id": "941e2fbd85d12be6"
  }
 ],
 "metadata": {
  "kernelspec": {
   "display_name": "Python 3",
   "language": "python",
   "name": "python3"
  },
  "language_info": {
   "codemirror_mode": {
    "name": "ipython",
    "version": 2
   },
   "file_extension": ".py",
   "mimetype": "text/x-python",
   "name": "python",
   "nbconvert_exporter": "python",
   "pygments_lexer": "ipython2",
   "version": "2.7.6"
  }
 },
 "nbformat": 4,
 "nbformat_minor": 5
}
